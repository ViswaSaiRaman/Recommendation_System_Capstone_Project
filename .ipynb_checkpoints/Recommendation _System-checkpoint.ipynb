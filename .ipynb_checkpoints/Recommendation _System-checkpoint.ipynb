{
 "cells": [
  {
   "cell_type": "markdown",
   "metadata": {},
   "source": [
    "# <font color = 'Green'>EBUSS RECOMMENDATION SYSTEM </font>\n",
    "\n",
    "<font color='black'>\n",
    "\n",
    "#### 1. The e-commerce business is quite popular today. A company launches its website to sell the items to the end consumer, and customers can order the products that they require from the same website.<br><br> 2. Ebuss has captured a huge market share in many fields, and it sells the products in various categories such as household essentials, books, personal care products, medicines, cosmetic items, beauty products, electrical appliances, kitchen and dining products and health care products.<br><br>3.  Our aim is to build a model that will improve the recommendations given to the users given their past reviews and ratings.\n",
    "</font>\n",
    "\n",
    "\n",
    "#### Steps Involved :\n",
    "\n",
    "**1. Data Processing** : Reading and understading, cleaning, Missing value treatment\n",
    "\n",
    "**2. Text Processing** : Tokenization, Lemmmatization\n",
    "\n",
    "**3. Data Visualization** : To understand length and sentiment of the reviews. To check for class imbalance\n",
    "\n",
    "**4. Model Building** : Logistic Regression, Multinomial Naive Bayes, Random Forest, XGBoost\n",
    "\n",
    "**5. Recommendation System**\n",
    "\n",
    "**6. **Recommed the top 5 products for a particular user**\n"
   ]
  },
  {
   "cell_type": "markdown",
   "metadata": {},
   "source": [
    "## <font color = 'maroon'> 1. DATA READING & DATA CLEANING</font>"
   ]
  },
  {
   "cell_type": "code",
   "execution_count": 1,
   "metadata": {},
   "outputs": [],
   "source": [
    "# Import the necessary libraries\n",
    "import pandas as pd\n",
    "import numpy as np\n",
    "from collections import defaultdict\n",
    "from collections import Counter\n",
    "import csv\n",
    "import re \n",
    "import string\n",
    "\n",
    "# To change date to datetime\n",
    "from datetime import datetime\n",
    "import time\n",
    "\n",
    "\n",
    "# Visualization libraries\n",
    "import plotly.graph_objects as go\n",
    "import seaborn as sns\n",
    "import matplotlib.pyplot as plt\n"
   ]
  },
  {
   "cell_type": "code",
   "execution_count": 2,
   "metadata": {},
   "outputs": [],
   "source": [
    "# To show all the columns\n",
    "pd.set_option('display.max_columns', 200)\n",
    "pd.set_option('display.max_colwidth', 300)\n",
    "\n",
    "# Avoid warnings\n",
    "import warnings\n",
    "warnings.filterwarnings(\"ignore\")"
   ]
  },
  {
   "cell_type": "code",
   "execution_count": 3,
   "metadata": {},
   "outputs": [],
   "source": [
    "# NLTK libraries\n",
    "import nltk\n",
    "from nltk.corpus import stopwords\n",
    "from nltk import FreqDist\n",
    "from nltk.tokenize import word_tokenize\n",
    "from nltk.stem import WordNetLemmatizer\n",
    "from nltk.corpus import wordnet\n",
    "import en_core_web_sm\n",
    "nlp = en_core_web_sm.load()"
   ]
  },
  {
   "cell_type": "code",
   "execution_count": 4,
   "metadata": {},
   "outputs": [],
   "source": [
    "# Modelling\n",
    "from sklearn.model_selection import cross_val_score\n",
    "from sklearn.feature_extraction.text import CountVectorizer, TfidfVectorizer\n",
    "from sklearn.metrics import *\n",
    "from sklearn.model_selection import train_test_split\n",
    "from imblearn.over_sampling import SMOTE\n",
    "import xgboost as xgb \n",
    "from sklearn.preprocessing import MinMaxScaler\n",
    "from sklearn.metrics import confusion_matrix, classification_report\n",
    "from sklearn.ensemble import RandomForestClassifier\n",
    "from sklearn.linear_model import LogisticRegression\n",
    "from sklearn.naive_bayes import MultinomialNB\n",
    "from sklearn.model_selection import KFold, cross_val_score, RandomizedSearchCV\n",
    "from sklearn.metrics.pairwise import cosine_similarity"
   ]
  },
  {
   "cell_type": "code",
   "execution_count": 5,
   "metadata": {},
   "outputs": [
    {
     "data": {
      "text/html": [
       "<div>\n",
       "<style scoped>\n",
       "    .dataframe tbody tr th:only-of-type {\n",
       "        vertical-align: middle;\n",
       "    }\n",
       "\n",
       "    .dataframe tbody tr th {\n",
       "        vertical-align: top;\n",
       "    }\n",
       "\n",
       "    .dataframe thead th {\n",
       "        text-align: right;\n",
       "    }\n",
       "</style>\n",
       "<table border=\"1\" class=\"dataframe\">\n",
       "  <thead>\n",
       "    <tr style=\"text-align: right;\">\n",
       "      <th></th>\n",
       "      <th>id</th>\n",
       "      <th>brand</th>\n",
       "      <th>categories</th>\n",
       "      <th>manufacturer</th>\n",
       "      <th>name</th>\n",
       "      <th>reviews_date</th>\n",
       "      <th>reviews_didPurchase</th>\n",
       "      <th>reviews_doRecommend</th>\n",
       "      <th>reviews_rating</th>\n",
       "      <th>reviews_text</th>\n",
       "      <th>reviews_title</th>\n",
       "      <th>reviews_userCity</th>\n",
       "      <th>reviews_userProvince</th>\n",
       "      <th>reviews_username</th>\n",
       "      <th>user_sentiment</th>\n",
       "    </tr>\n",
       "  </thead>\n",
       "  <tbody>\n",
       "    <tr>\n",
       "      <th>0</th>\n",
       "      <td>AV13O1A8GV-KLJ3akUyj</td>\n",
       "      <td>Universal Music</td>\n",
       "      <td>Movies, Music &amp; Books,Music,R&amp;b,Movies &amp; TV,Movie Bundles &amp; Collections,CDs &amp; Vinyl,Rap &amp; Hip-Hop,Bass,Music on CD or Vinyl,Rap,Hip-Hop,Mainstream Rap,Pop Rap</td>\n",
       "      <td>Universal Music Group / Cash Money</td>\n",
       "      <td>Pink Friday: Roman Reloaded Re-Up (w/dvd)</td>\n",
       "      <td>2012-11-30T06:21:45.000Z</td>\n",
       "      <td>NaN</td>\n",
       "      <td>NaN</td>\n",
       "      <td>5</td>\n",
       "      <td>i love this album. it's very good. more to the hip hop side than her current pop sound.. SO HYPE! i listen to this everyday at the gym! i give it 5star rating all the way. her metaphors are just crazy.</td>\n",
       "      <td>Just Awesome</td>\n",
       "      <td>Los Angeles</td>\n",
       "      <td>NaN</td>\n",
       "      <td>joshua</td>\n",
       "      <td>Positive</td>\n",
       "    </tr>\n",
       "    <tr>\n",
       "      <th>1</th>\n",
       "      <td>AV14LG0R-jtxr-f38QfS</td>\n",
       "      <td>Lundberg</td>\n",
       "      <td>Food,Packaged Foods,Snacks,Crackers,Snacks, Cookies &amp; Chips,Rice Cakes,Cakes</td>\n",
       "      <td>Lundberg</td>\n",
       "      <td>Lundberg Organic Cinnamon Toast Rice Cakes</td>\n",
       "      <td>2017-07-09T00:00:00.000Z</td>\n",
       "      <td>True</td>\n",
       "      <td>NaN</td>\n",
       "      <td>5</td>\n",
       "      <td>Good flavor. This review was collected as part of a promotion.</td>\n",
       "      <td>Good</td>\n",
       "      <td>NaN</td>\n",
       "      <td>NaN</td>\n",
       "      <td>dorothy w</td>\n",
       "      <td>Positive</td>\n",
       "    </tr>\n",
       "    <tr>\n",
       "      <th>2</th>\n",
       "      <td>AV14LG0R-jtxr-f38QfS</td>\n",
       "      <td>Lundberg</td>\n",
       "      <td>Food,Packaged Foods,Snacks,Crackers,Snacks, Cookies &amp; Chips,Rice Cakes,Cakes</td>\n",
       "      <td>Lundberg</td>\n",
       "      <td>Lundberg Organic Cinnamon Toast Rice Cakes</td>\n",
       "      <td>2017-07-09T00:00:00.000Z</td>\n",
       "      <td>True</td>\n",
       "      <td>NaN</td>\n",
       "      <td>5</td>\n",
       "      <td>Good flavor.</td>\n",
       "      <td>Good</td>\n",
       "      <td>NaN</td>\n",
       "      <td>NaN</td>\n",
       "      <td>dorothy w</td>\n",
       "      <td>Positive</td>\n",
       "    </tr>\n",
       "    <tr>\n",
       "      <th>3</th>\n",
       "      <td>AV16khLE-jtxr-f38VFn</td>\n",
       "      <td>K-Y</td>\n",
       "      <td>Personal Care,Medicine Cabinet,Lubricant/Spermicide,Health,Sexual Wellness,Lubricants</td>\n",
       "      <td>K-Y</td>\n",
       "      <td>K-Y Love Sensuality Pleasure Gel</td>\n",
       "      <td>2016-01-06T00:00:00.000Z</td>\n",
       "      <td>False</td>\n",
       "      <td>False</td>\n",
       "      <td>1</td>\n",
       "      <td>I read through the reviews on here before looking in to buying one of the couples lubricants, and was ultimately disappointed that it didn't even live up to the reviews I had read. For starters, neither my boyfriend nor I could notice any sort of enhanced or 'captivating' sensation. What we did ...</td>\n",
       "      <td>Disappointed</td>\n",
       "      <td>NaN</td>\n",
       "      <td>NaN</td>\n",
       "      <td>rebecca</td>\n",
       "      <td>Negative</td>\n",
       "    </tr>\n",
       "    <tr>\n",
       "      <th>4</th>\n",
       "      <td>AV16khLE-jtxr-f38VFn</td>\n",
       "      <td>K-Y</td>\n",
       "      <td>Personal Care,Medicine Cabinet,Lubricant/Spermicide,Health,Sexual Wellness,Lubricants</td>\n",
       "      <td>K-Y</td>\n",
       "      <td>K-Y Love Sensuality Pleasure Gel</td>\n",
       "      <td>2016-12-21T00:00:00.000Z</td>\n",
       "      <td>False</td>\n",
       "      <td>False</td>\n",
       "      <td>1</td>\n",
       "      <td>My husband bought this gel for us. The gel caused irritation and it felt like it was burning my skin. I wouldn't recommend this gel.</td>\n",
       "      <td>Irritation</td>\n",
       "      <td>NaN</td>\n",
       "      <td>NaN</td>\n",
       "      <td>walker557</td>\n",
       "      <td>Negative</td>\n",
       "    </tr>\n",
       "  </tbody>\n",
       "</table>\n",
       "</div>"
      ],
      "text/plain": [
       "                     id            brand  \\\n",
       "0  AV13O1A8GV-KLJ3akUyj  Universal Music   \n",
       "1  AV14LG0R-jtxr-f38QfS         Lundberg   \n",
       "2  AV14LG0R-jtxr-f38QfS         Lundberg   \n",
       "3  AV16khLE-jtxr-f38VFn              K-Y   \n",
       "4  AV16khLE-jtxr-f38VFn              K-Y   \n",
       "\n",
       "                                                                                                                                                       categories  \\\n",
       "0  Movies, Music & Books,Music,R&b,Movies & TV,Movie Bundles & Collections,CDs & Vinyl,Rap & Hip-Hop,Bass,Music on CD or Vinyl,Rap,Hip-Hop,Mainstream Rap,Pop Rap   \n",
       "1                                                                                    Food,Packaged Foods,Snacks,Crackers,Snacks, Cookies & Chips,Rice Cakes,Cakes   \n",
       "2                                                                                    Food,Packaged Foods,Snacks,Crackers,Snacks, Cookies & Chips,Rice Cakes,Cakes   \n",
       "3                                                                           Personal Care,Medicine Cabinet,Lubricant/Spermicide,Health,Sexual Wellness,Lubricants   \n",
       "4                                                                           Personal Care,Medicine Cabinet,Lubricant/Spermicide,Health,Sexual Wellness,Lubricants   \n",
       "\n",
       "                         manufacturer  \\\n",
       "0  Universal Music Group / Cash Money   \n",
       "1                            Lundberg   \n",
       "2                            Lundberg   \n",
       "3                                 K-Y   \n",
       "4                                 K-Y   \n",
       "\n",
       "                                         name              reviews_date  \\\n",
       "0   Pink Friday: Roman Reloaded Re-Up (w/dvd)  2012-11-30T06:21:45.000Z   \n",
       "1  Lundberg Organic Cinnamon Toast Rice Cakes  2017-07-09T00:00:00.000Z   \n",
       "2  Lundberg Organic Cinnamon Toast Rice Cakes  2017-07-09T00:00:00.000Z   \n",
       "3            K-Y Love Sensuality Pleasure Gel  2016-01-06T00:00:00.000Z   \n",
       "4            K-Y Love Sensuality Pleasure Gel  2016-12-21T00:00:00.000Z   \n",
       "\n",
       "  reviews_didPurchase reviews_doRecommend  reviews_rating  \\\n",
       "0                 NaN                 NaN               5   \n",
       "1                True                 NaN               5   \n",
       "2                True                 NaN               5   \n",
       "3               False               False               1   \n",
       "4               False               False               1   \n",
       "\n",
       "                                                                                                                                                                                                                                                                                                  reviews_text  \\\n",
       "0                                                                                                    i love this album. it's very good. more to the hip hop side than her current pop sound.. SO HYPE! i listen to this everyday at the gym! i give it 5star rating all the way. her metaphors are just crazy.   \n",
       "1                                                                                                                                                                                                                                               Good flavor. This review was collected as part of a promotion.   \n",
       "2                                                                                                                                                                                                                                                                                                 Good flavor.   \n",
       "3  I read through the reviews on here before looking in to buying one of the couples lubricants, and was ultimately disappointed that it didn't even live up to the reviews I had read. For starters, neither my boyfriend nor I could notice any sort of enhanced or 'captivating' sensation. What we did ...   \n",
       "4                                                                                                                                                                         My husband bought this gel for us. The gel caused irritation and it felt like it was burning my skin. I wouldn't recommend this gel.   \n",
       "\n",
       "  reviews_title reviews_userCity reviews_userProvince reviews_username  \\\n",
       "0  Just Awesome      Los Angeles                  NaN           joshua   \n",
       "1          Good              NaN                  NaN        dorothy w   \n",
       "2          Good              NaN                  NaN        dorothy w   \n",
       "3  Disappointed              NaN                  NaN          rebecca   \n",
       "4    Irritation              NaN                  NaN        walker557   \n",
       "\n",
       "  user_sentiment  \n",
       "0       Positive  \n",
       "1       Positive  \n",
       "2       Positive  \n",
       "3       Negative  \n",
       "4       Negative  "
      ]
     },
     "execution_count": 5,
     "metadata": {},
     "output_type": "execute_result"
    }
   ],
   "source": [
    "# reading the dataset\n",
    "\n",
    "df = pd.read_csv(\"sample30.csv\")\n",
    "df.head()"
   ]
  },
  {
   "cell_type": "code",
   "execution_count": 6,
   "metadata": {},
   "outputs": [
    {
     "name": "stdout",
     "output_type": "stream",
     "text": [
      "(30000, 15)\n",
      "<class 'pandas.core.frame.DataFrame'>\n",
      "RangeIndex: 30000 entries, 0 to 29999\n",
      "Data columns (total 15 columns):\n",
      " #   Column                Non-Null Count  Dtype \n",
      "---  ------                --------------  ----- \n",
      " 0   id                    30000 non-null  object\n",
      " 1   brand                 30000 non-null  object\n",
      " 2   categories            30000 non-null  object\n",
      " 3   manufacturer          29859 non-null  object\n",
      " 4   name                  30000 non-null  object\n",
      " 5   reviews_date          29954 non-null  object\n",
      " 6   reviews_didPurchase   15932 non-null  object\n",
      " 7   reviews_doRecommend   27430 non-null  object\n",
      " 8   reviews_rating        30000 non-null  int64 \n",
      " 9   reviews_text          30000 non-null  object\n",
      " 10  reviews_title         29810 non-null  object\n",
      " 11  reviews_userCity      1929 non-null   object\n",
      " 12  reviews_userProvince  170 non-null    object\n",
      " 13  reviews_username      29937 non-null  object\n",
      " 14  user_sentiment        29999 non-null  object\n",
      "dtypes: int64(1), object(14)\n",
      "memory usage: 3.4+ MB\n",
      "None\n"
     ]
    }
   ],
   "source": [
    "# print the shape and info of the dataframe\n",
    "print(df.shape)\n",
    "print(df.info())"
   ]
  },
  {
   "cell_type": "code",
   "execution_count": 7,
   "metadata": {},
   "outputs": [
    {
     "data": {
      "text/plain": [
       "['id',\n",
       " 'brand',\n",
       " 'categories',\n",
       " 'manufacturer',\n",
       " 'name',\n",
       " 'reviews_date',\n",
       " 'reviews_didPurchase',\n",
       " 'reviews_doRecommend',\n",
       " 'reviews_rating',\n",
       " 'reviews_text',\n",
       " 'reviews_title',\n",
       " 'reviews_userCity',\n",
       " 'reviews_userProvince',\n",
       " 'reviews_username',\n",
       " 'user_sentiment']"
      ]
     },
     "execution_count": 7,
     "metadata": {},
     "output_type": "execute_result"
    }
   ],
   "source": [
    "# print the columns of the dataframe\n",
    "list(df.columns)"
   ]
  },
  {
   "cell_type": "code",
   "execution_count": 8,
   "metadata": {},
   "outputs": [
    {
     "data": {
      "text/plain": [
       "id                          0\n",
       "brand                       0\n",
       "categories                  0\n",
       "manufacturer              141\n",
       "name                        0\n",
       "reviews_date               46\n",
       "reviews_didPurchase     14068\n",
       "reviews_doRecommend      2570\n",
       "reviews_rating              0\n",
       "reviews_text                0\n",
       "reviews_title             190\n",
       "reviews_userCity        28071\n",
       "reviews_userProvince    29830\n",
       "reviews_username           63\n",
       "user_sentiment              1\n",
       "dtype: int64"
      ]
     },
     "execution_count": 8,
     "metadata": {},
     "output_type": "execute_result"
    }
   ],
   "source": [
    "# No of missing entries in the df\n",
    "df.isnull().sum()"
   ]
  },
  {
   "cell_type": "code",
   "execution_count": 9,
   "metadata": {},
   "outputs": [
    {
     "data": {
      "text/plain": [
       "id                       0.00000\n",
       "brand                    0.00000\n",
       "categories               0.00000\n",
       "manufacturer             0.47000\n",
       "name                     0.00000\n",
       "reviews_date             0.15333\n",
       "reviews_didPurchase     46.89333\n",
       "reviews_doRecommend      8.56667\n",
       "reviews_rating           0.00000\n",
       "reviews_text             0.00000\n",
       "reviews_title            0.63333\n",
       "reviews_userCity        93.57000\n",
       "reviews_userProvince    99.43333\n",
       "reviews_username         0.21000\n",
       "user_sentiment           0.00333\n",
       "dtype: float64"
      ]
     },
     "execution_count": 9,
     "metadata": {},
     "output_type": "execute_result"
    }
   ],
   "source": [
    "# Percentage of missing entries\n",
    "round(100*((df.isnull().sum())/len(df)),5)"
   ]
  },
  {
   "cell_type": "code",
   "execution_count": 10,
   "metadata": {},
   "outputs": [
    {
     "name": "stdout",
     "output_type": "stream",
     "text": [
      "(30000, 13)\n"
     ]
    }
   ],
   "source": [
    "# Drop columns which have more than 90% of missing values. \n",
    "# In our case, we have two columns reviews_userCity and reviews_userProvince\n",
    "# which have > 90% missing values. Hence we can remove those columns.\n",
    "\n",
    "df = df.drop(columns=['reviews_userCity', 'reviews_userProvince'])\n",
    "\n",
    "print(df.shape)"
   ]
  },
  {
   "cell_type": "code",
   "execution_count": 11,
   "metadata": {},
   "outputs": [
    {
     "data": {
      "text/plain": [
       "id                      0.00000\n",
       "brand                   0.00000\n",
       "categories              0.00000\n",
       "manufacturer            0.47000\n",
       "name                    0.00000\n",
       "reviews_date            0.15333\n",
       "reviews_didPurchase    46.89333\n",
       "reviews_doRecommend     8.56667\n",
       "reviews_rating          0.00000\n",
       "reviews_text            0.00000\n",
       "reviews_title           0.63333\n",
       "reviews_username        0.21000\n",
       "user_sentiment          0.00333\n",
       "dtype: float64"
      ]
     },
     "execution_count": 11,
     "metadata": {},
     "output_type": "execute_result"
    }
   ],
   "source": [
    "# Print the % of missing values for each column again \n",
    "round(100*((df.isnull().sum())/len(df)),5)"
   ]
  },
  {
   "cell_type": "code",
   "execution_count": 12,
   "metadata": {},
   "outputs": [
    {
     "name": "stdout",
     "output_type": "stream",
     "text": [
      "(30000, 11)\n"
     ]
    }
   ],
   "source": [
    "# Since we do not need reviews_didPurchase and reviews_doRecommend for our analysis \n",
    "# We can drop those two columns as well\n",
    "\n",
    "df = df.drop(columns=['reviews_didPurchase', 'reviews_doRecommend'])\n",
    "\n",
    "print(df.shape)"
   ]
  },
  {
   "cell_type": "code",
   "execution_count": 13,
   "metadata": {},
   "outputs": [
    {
     "data": {
      "text/plain": [
       "id                  0.00000\n",
       "brand               0.00000\n",
       "categories          0.00000\n",
       "manufacturer        0.47000\n",
       "name                0.00000\n",
       "reviews_date        0.15333\n",
       "reviews_rating      0.00000\n",
       "reviews_text        0.00000\n",
       "reviews_title       0.63333\n",
       "reviews_username    0.21000\n",
       "user_sentiment      0.00333\n",
       "dtype: float64"
      ]
     },
     "execution_count": 13,
     "metadata": {},
     "output_type": "execute_result"
    }
   ],
   "source": [
    "# Print the % of missing values for each column again \n",
    "round(100*((df.isnull().sum())/len(df)),5)"
   ]
  },
  {
   "cell_type": "markdown",
   "metadata": {},
   "source": [
    "##### Since we have less number of missing values in other columns, \n",
    "##### We can remove those rows where the other columns have less missing values. \n",
    "\n"
   ]
  },
  {
   "cell_type": "code",
   "execution_count": 14,
   "metadata": {},
   "outputs": [],
   "source": [
    "# Drop all those rows where manufacturer is null\n",
    "df = df[df['manufacturer'].notna()]\n",
    "\n",
    "# Drop all those rows where reviews_date is null\n",
    "df = df[df['reviews_date'].notna()]\n",
    "\n",
    "# Drop all those rows where reviews_title is null\n",
    "df = df[df['reviews_title'].notna()]\n",
    "\n",
    "# Drop all those rows where reviews_username is null\n",
    "df = df[df['reviews_username'].notna()]\n",
    "\n",
    "# Drop all those rows where user_sentiment is null\n",
    "df = df[df['user_sentiment'].notna()]\n"
   ]
  },
  {
   "cell_type": "code",
   "execution_count": 15,
   "metadata": {},
   "outputs": [
    {
     "data": {
      "text/plain": [
       "(29566, 11)"
      ]
     },
     "execution_count": 15,
     "metadata": {},
     "output_type": "execute_result"
    }
   ],
   "source": [
    "# Print the shape of the dataframe \n",
    "df.shape"
   ]
  },
  {
   "cell_type": "code",
   "execution_count": 16,
   "metadata": {},
   "outputs": [
    {
     "data": {
      "text/plain": [
       "id                  0.0\n",
       "brand               0.0\n",
       "categories          0.0\n",
       "manufacturer        0.0\n",
       "name                0.0\n",
       "reviews_date        0.0\n",
       "reviews_rating      0.0\n",
       "reviews_text        0.0\n",
       "reviews_title       0.0\n",
       "reviews_username    0.0\n",
       "user_sentiment      0.0\n",
       "dtype: float64"
      ]
     },
     "execution_count": 16,
     "metadata": {},
     "output_type": "execute_result"
    }
   ],
   "source": [
    "# Print the % of missing values for each column again \n",
    "round(100*((df.isnull().sum())/len(df)),5)"
   ]
  },
  {
   "cell_type": "code",
   "execution_count": 17,
   "metadata": {
    "scrolled": true
   },
   "outputs": [
    {
     "name": "stdout",
     "output_type": "stream",
     "text": [
      "<class 'pandas.core.frame.DataFrame'>\n",
      "Int64Index: 29566 entries, 0 to 29999\n",
      "Data columns (total 11 columns):\n",
      " #   Column          Non-Null Count  Dtype \n",
      "---  ------          --------------  ----- \n",
      " 0   id              29566 non-null  object\n",
      " 1   brand           29566 non-null  object\n",
      " 2   categories      29566 non-null  object\n",
      " 3   manufacturer    29566 non-null  object\n",
      " 4   name            29566 non-null  object\n",
      " 5   date            29566 non-null  object\n",
      " 6   ating           29566 non-null  int64 \n",
      " 7   text            29566 non-null  object\n",
      " 8   title           29566 non-null  object\n",
      " 9   username        29566 non-null  object\n",
      " 10  user_sentiment  29566 non-null  object\n",
      "dtypes: int64(1), object(10)\n",
      "memory usage: 2.7+ MB\n",
      "None\n"
     ]
    }
   ],
   "source": [
    "# Remove the prefix word reviews_ from the column names\n",
    "\n",
    "df.columns = list(map((lambda x : x.lstrip(\"reviews_\") if x.startswith(\"reviews_\") else x), list(df.columns)))\n",
    "print(df.info())"
   ]
  },
  {
   "cell_type": "code",
   "execution_count": 18,
   "metadata": {},
   "outputs": [
    {
     "name": "stdout",
     "output_type": "stream",
     "text": [
      "<class 'pandas.core.frame.DataFrame'>\n",
      "Int64Index: 29566 entries, 0 to 29999\n",
      "Data columns (total 11 columns):\n",
      " #   Column          Non-Null Count  Dtype \n",
      "---  ------          --------------  ----- \n",
      " 0   id              29566 non-null  object\n",
      " 1   brand           29566 non-null  object\n",
      " 2   categories      29566 non-null  object\n",
      " 3   manufacturer    29566 non-null  object\n",
      " 4   name            29566 non-null  object\n",
      " 5   date            29566 non-null  object\n",
      " 6   rating          29566 non-null  int64 \n",
      " 7   text            29566 non-null  object\n",
      " 8   title           29566 non-null  object\n",
      " 9   username        29566 non-null  object\n",
      " 10  user_sentiment  29566 non-null  object\n",
      "dtypes: int64(1), object(10)\n",
      "memory usage: 2.7+ MB\n",
      "None\n"
     ]
    }
   ],
   "source": [
    "# Correct the column name to rating which got stripped during lstrip\n",
    "df = df.rename(columns={'ating':'rating'})\n",
    "print(df.info())"
   ]
  },
  {
   "cell_type": "code",
   "execution_count": 19,
   "metadata": {},
   "outputs": [
    {
     "data": {
      "text/plain": [
       "Positive    26262\n",
       "Negative     3304\n",
       "Name: user_sentiment, dtype: int64"
      ]
     },
     "execution_count": 19,
     "metadata": {},
     "output_type": "execute_result"
    }
   ],
   "source": [
    "# In our case User_sentiment is the target variable which is in the text form \n",
    "\n",
    "df['user_sentiment'].value_counts()"
   ]
  },
  {
   "cell_type": "code",
   "execution_count": 20,
   "metadata": {},
   "outputs": [
    {
     "data": {
      "text/plain": [
       "1    26262\n",
       "0     3304\n",
       "Name: user_sentiment, dtype: int64"
      ]
     },
     "execution_count": 20,
     "metadata": {},
     "output_type": "execute_result"
    }
   ],
   "source": [
    "# Let's convert this to a numerical binary value for the classification modeling purpose\n",
    "\n",
    "df['user_sentiment'] = df['user_sentiment'].apply(lambda x : 1 if x==\"Positive\" else 0)\n",
    "\n",
    "df['user_sentiment'].value_counts()"
   ]
  },
  {
   "cell_type": "markdown",
   "metadata": {},
   "source": [
    "### a. Analysis on the Users and the Items "
   ]
  },
  {
   "cell_type": "code",
   "execution_count": 21,
   "metadata": {},
   "outputs": [],
   "source": [
    "# Convert the username, title and text to lowercase incase of any ambiguity\n",
    "\n",
    "df['username'] = df['username'].apply(lambda x : x.lower())\n",
    "df['text'] = df['text'].apply(lambda x : x.lower())\n",
    "df['title'] = df['title'].apply(lambda x : x.lower())\n",
    "\n",
    "# Use strip to remove leading and trailing white spaces\n",
    "\n",
    "df['username'] = df['username'].apply(lambda x : x.strip())\n",
    "df['text'] = df['text'].apply(lambda x : x.strip())\n",
    "df['title'] = df['title'].apply(lambda x : x.strip())"
   ]
  },
  {
   "cell_type": "code",
   "execution_count": 22,
   "metadata": {},
   "outputs": [
    {
     "data": {
      "text/plain": [
       "mike                 41\n",
       "byamazon customer    41\n",
       "chris                31\n",
       "rick                 15\n",
       "sandy                15\n",
       "                     ..\n",
       "shortround715         1\n",
       "niknik7771            1\n",
       "taylord18             1\n",
       "lajlfkajoaiuh         1\n",
       "guesy                 1\n",
       "Name: username, Length: 24632, dtype: int64"
      ]
     },
     "execution_count": 22,
     "metadata": {},
     "output_type": "execute_result"
    }
   ],
   "source": [
    "# No of unique users in the dataframe\n",
    "df['username'].value_counts()"
   ]
  },
  {
   "cell_type": "code",
   "execution_count": 23,
   "metadata": {},
   "outputs": [
    {
     "data": {
      "text/plain": [
       "Clorox Disinfecting Wipes Value Pack Scented 150 Ct Total                         8524\n",
       "Godzilla 3d Includes Digital Copy Ultraviolet 3d/2d Blu-Ray/dvd                   3324\n",
       "Clorox Disinfecting Bathroom Cleaner                                              2039\n",
       "L'or233al Paris Elvive Extraordinary Clay Rebalancing Conditioner - 12.6 Fl Oz    1186\n",
       "Planes: Fire Rescue (2 Discs) (includes Digital Copy) (blu-Ray/dvd)               1139\n",
       "                                                                                  ... \n",
       "Fantasy Fields Lil' Sports Fan Step Stool - Teamson                                  1\n",
       "JNH Lifestyles Goldstar 3 Person FAR Infrared Sauna                                  1\n",
       "Home Health Hairever Shampoo                                                         1\n",
       "Wilton Black Dots Standard Baking Cups                                               1\n",
       "Craft Punch Giga Scallop Circle 45 24687534 To 334                                   1\n",
       "Name: name, Length: 249, dtype: int64"
      ]
     },
     "execution_count": 23,
     "metadata": {},
     "output_type": "execute_result"
    }
   ],
   "source": [
    "# No of unique items in the dataframe\n",
    "df['name'].value_counts()"
   ]
  },
  {
   "cell_type": "markdown",
   "metadata": {},
   "source": [
    "#### From the above two commands, we can say that we have 24,632 unique users and 249 unique items in the dataframe"
   ]
  },
  {
   "cell_type": "code",
   "execution_count": 24,
   "metadata": {},
   "outputs": [
    {
     "name": "stdout",
     "output_type": "stream",
     "text": [
      "0    just awesome\n",
      "1            good\n",
      "2            good\n",
      "Name: title, dtype: object\n",
      "0    i love this album. it's very good. more to the hip hop side than her current pop sound.. so hype! i listen to this everyday at the gym! i give it 5star rating all the way. her metaphors are just crazy.\n",
      "1                                                                                                                                               good flavor. this review was collected as part of a promotion.\n",
      "2                                                                                                                                                                                                 good flavor.\n",
      "Name: text, dtype: object\n"
     ]
    }
   ],
   "source": [
    "# We have two interesting columns text and title. \n",
    "# Let us check the difference b/w these two columns\n",
    "\n",
    "print(df['title'].head(3))\n",
    "print(df['text'].head(3))"
   ]
  },
  {
   "cell_type": "markdown",
   "metadata": {},
   "source": [
    "## 2. <font color = 'maroon'> TEXT PROCESSING</font>"
   ]
  },
  {
   "cell_type": "markdown",
   "metadata": {},
   "source": [
    "#### There are chances that people might use some hyperlinks in the reviews. Incase any of those are put, we might have to remove them from the reviews to make sure we have only text for the lemmatization."
   ]
  },
  {
   "cell_type": "code",
   "execution_count": 25,
   "metadata": {},
   "outputs": [],
   "source": [
    "def check_hyperlink(x):\n",
    "    if x.find(\"http:\") == -1 or x.find(\"https:\") == -1:\n",
    "        return 0\n",
    "    else:\n",
    "        return 1\n",
    "\n",
    "check_https = df['text'].apply(check_hyperlink)"
   ]
  },
  {
   "cell_type": "code",
   "execution_count": 26,
   "metadata": {},
   "outputs": [
    {
     "data": {
      "text/plain": [
       "0    29566\n",
       "Name: text, dtype: int64"
      ]
     },
     "execution_count": 26,
     "metadata": {},
     "output_type": "execute_result"
    }
   ],
   "source": [
    "check_https.value_counts()"
   ]
  },
  {
   "cell_type": "markdown",
   "metadata": {},
   "source": [
    "##### Since we do not have any hyperlinks in the text, we dont have to remove anything."
   ]
  },
  {
   "cell_type": "code",
   "execution_count": 27,
   "metadata": {},
   "outputs": [],
   "source": [
    "df['review'] = df['text']"
   ]
  },
  {
   "cell_type": "markdown",
   "metadata": {},
   "source": [
    "### a. TOKENIZATION"
   ]
  },
  {
   "cell_type": "code",
   "execution_count": 28,
   "metadata": {},
   "outputs": [
    {
     "data": {
      "text/plain": [
       "0                                                                                                               i love this album its very good more to the hip hop side than her current pop sound so hype i listen to this everyday at the gym i give it 5star rating all the way her metaphors are just crazy\n",
       "1                                                                                                                                                                                                                                                   good flavor this review was collected as part of a promotion\n",
       "2                                                                                                                                                                                                                                                                                                    good flavor\n",
       "3    i read through the reviews on here before looking in to buying one of the couples lubricants and was ultimately disappointed that it didnt even live up to the reviews i had read for starters neither my boyfriend nor i could notice any sort of enhanced or captivating sensation what we did notice ...\n",
       "4                                                                                                                                                                               my husband bought this gel for us the gel caused irritation and it felt like it was burning my skin i wouldnt recommend this gel\n",
       "Name: review, dtype: object"
      ]
     },
     "execution_count": 28,
     "metadata": {},
     "output_type": "execute_result"
    }
   ],
   "source": [
    "# Remove all the punctuation marks from the review column\n",
    "df['review'] = df['review'].str.replace('[^\\w\\s]','')\n",
    "df['review'].head()"
   ]
  },
  {
   "cell_type": "code",
   "execution_count": 29,
   "metadata": {},
   "outputs": [],
   "source": [
    "# Removing all the stop words from the review column \n",
    "\n",
    "# Instantiate a stopwords object\n",
    "stop_words = stopwords.words('english')"
   ]
  },
  {
   "cell_type": "code",
   "execution_count": 30,
   "metadata": {},
   "outputs": [],
   "source": [
    "# define a function to remove the stop words\n",
    "# remove all the stop words from the sentence after splitting and join it back with a space\n",
    "\n",
    "def remove_stopwords(text):\n",
    "    words = [i for i in text.split() if i not in stop_words]\n",
    "    return ' '.join(words)"
   ]
  },
  {
   "cell_type": "code",
   "execution_count": 31,
   "metadata": {},
   "outputs": [
    {
     "data": {
      "text/plain": [
       "0                                                                                                                                                                                                  love album good hip hop side current pop sound hype listen everyday gym give 5star rating way metaphors crazy\n",
       "1                                                                                                                                                                                                                                                                    good flavor review collected part promotion\n",
       "2                                                                                                                                                                                                                                                                                                    good flavor\n",
       "3    read reviews looking buying one couples lubricants ultimately disappointed didnt even live reviews read starters neither boyfriend could notice sort enhanced captivating sensation notice however messy consistency reminiscent liquidy vaseline difficult clean pleasant especially since lacked capti...\n",
       "4                                                                                                                                                                                                                       husband bought gel us gel caused irritation felt like burning skin wouldnt recommend gel\n",
       "Name: review, dtype: object"
      ]
     },
     "execution_count": 31,
     "metadata": {},
     "output_type": "execute_result"
    }
   ],
   "source": [
    "# apply the above define function on the reviews dataset\n",
    "\n",
    "df['review'] = df['review'].apply(remove_stopwords)\n",
    "df['review'].head()"
   ]
  },
  {
   "cell_type": "markdown",
   "metadata": {},
   "source": [
    "### b. LEMMATIZATION"
   ]
  },
  {
   "cell_type": "code",
   "execution_count": 32,
   "metadata": {},
   "outputs": [],
   "source": [
    "# Create an instance of WordNet Lemmatizer\n",
    "\n",
    "wordnet_lemmatizer = WordNetLemmatizer()"
   ]
  },
  {
   "cell_type": "code",
   "execution_count": 33,
   "metadata": {},
   "outputs": [],
   "source": [
    "# Define a function to lemmatize each word of a sentence\n",
    "\n",
    "def lemmatize_sentence(text):\n",
    "    sent = [wordnet_lemmatizer.lemmatize(word) for word in word_tokenize(text)]\n",
    "    return \" \".join(sent)"
   ]
  },
  {
   "cell_type": "code",
   "execution_count": 34,
   "metadata": {},
   "outputs": [
    {
     "data": {
      "text/plain": [
       "0                                                                                                                                                                                                   love album good hip hop side current pop sound hype listen everyday gym give 5star rating way metaphor crazy\n",
       "1                                                                                                                                                                                                                                                                    good flavor review collected part promotion\n",
       "2                                                                                                                                                                                                                                                                                                    good flavor\n",
       "3    read review looking buying one couple lubricant ultimately disappointed didnt even live review read starter neither boyfriend could notice sort enhanced captivating sensation notice however messy consistency reminiscent liquidy vaseline difficult clean pleasant especially since lacked captivatin...\n",
       "4                                                                                                                                                                                                                        husband bought gel u gel caused irritation felt like burning skin wouldnt recommend gel\n",
       "Name: review, dtype: object"
      ]
     },
     "execution_count": 34,
     "metadata": {},
     "output_type": "execute_result"
    }
   ],
   "source": [
    "df['review'] = df['review'].apply(lemmatize_sentence)\n",
    "df['review'] = df['review'].str.strip()\n",
    "df['review'].head()"
   ]
  },
  {
   "cell_type": "markdown",
   "metadata": {},
   "source": [
    "### <font color = 'maroon'>3.  DATA VISUALIZATION</font>"
   ]
  },
  {
   "cell_type": "markdown",
   "metadata": {},
   "source": [
    "### a. Visualize the review length against the number of reviews. "
   ]
  },
  {
   "cell_type": "code",
   "execution_count": 35,
   "metadata": {},
   "outputs": [
    {
     "data": {
      "image/png": "[encoded data removed]",
      "text/plain": [
       "<Figure size 1080x720 with 1 Axes>"
      ]
     },
     "metadata": {
      "needs_background": "light"
     },
     "output_type": "display_data"
    }
   ],
   "source": [
    "plt.figure(figsize=(15,10))\n",
    "doc_lens = [len(d) for d in df['review']]\n",
    "plt.hist(doc_lens, bins = 10)\n",
    "plt.xlabel('Review Length')\n",
    "plt.ylabel('Number of Reviews')\n",
    "plt.show()"
   ]
  },
  {
   "cell_type": "markdown",
   "metadata": {},
   "source": [
    "### b. Visualize the percentage of positive and negative reviews"
   ]
  },
  {
   "cell_type": "code",
   "execution_count": 36,
   "metadata": {},
   "outputs": [
    {
     "data": {
      "image/png": "[encoded data removed]",
      "text/plain": [
       "<Figure size 1080x720 with 1 Axes>"
      ]
     },
     "metadata": {
      "needs_background": "light"
     },
     "output_type": "display_data"
    }
   ],
   "source": [
    "plt.figure(figsize=(15,10))\n",
    "plt.hist(df['user_sentiment'])\n",
    "plt.xlabel('Positive/Negative')\n",
    "plt.ylabel('Number of Reviews')\n",
    "plt.show()"
   ]
  },
  {
   "cell_type": "markdown",
   "metadata": {},
   "source": [
    "#### Observations : \n",
    "**From the above we can observe that the reviews are majorly Positive. <br> This might be a leading to inaccuracies during modeling due to huge class imbalance.**"
   ]
  },
  {
   "cell_type": "code",
   "execution_count": 37,
   "metadata": {},
   "outputs": [
    {
     "data": {
      "text/plain": [
       "1    88.825002\n",
       "0    11.174998\n",
       "Name: user_sentiment, dtype: float64"
      ]
     },
     "execution_count": 37,
     "metadata": {},
     "output_type": "execute_result"
    }
   ],
   "source": [
    "# Check the % of positive and negative reviews. \n",
    "\n",
    "100*(df['user_sentiment'].value_counts()/len(df['user_sentiment']))"
   ]
  },
  {
   "cell_type": "markdown",
   "metadata": {},
   "source": [
    "#### From the above figures, we can conclude that we have ~89% positive reviews and only ~11% positive reviews. This is a sign of HUGE CLASS IMBALANCE"
   ]
  },
  {
   "cell_type": "markdown",
   "metadata": {},
   "source": [
    "## <font color = 'maroon'>4. MODELING</font>"
   ]
  },
  {
   "cell_type": "code",
   "execution_count": 38,
   "metadata": {},
   "outputs": [],
   "source": [
    "# Assign the X and Y variables\n",
    "X = df['review']\n",
    "Y = df['user_sentiment']"
   ]
  },
  {
   "cell_type": "code",
   "execution_count": 39,
   "metadata": {},
   "outputs": [],
   "source": [
    "# Split the dataset into train and test\n",
    "\n",
    "X_train, X_test, Y_train, Y_test = train_test_split(X, Y, train_size=0.7, test_size=0.3, random_state=100)"
   ]
  },
  {
   "cell_type": "code",
   "execution_count": 40,
   "metadata": {},
   "outputs": [
    {
     "name": "stdout",
     "output_type": "stream",
     "text": [
      "X_train (20696,)\n",
      "Y_train (20696,)\n",
      "X_test (8870,)\n",
      "Y_test (8870,)\n"
     ]
    }
   ],
   "source": [
    "# print the shapes of x_train, x_test, y_train and y_test\n",
    "print('X_train', X_train.shape)\n",
    "print('Y_train', Y_train.shape)\n",
    "print('X_test', X_test.shape)\n",
    "print('Y_test', Y_test.shape)"
   ]
  },
  {
   "cell_type": "code",
   "execution_count": 41,
   "metadata": {},
   "outputs": [],
   "source": [
    "# Instantiate a TfIdfVectorizer Object\n",
    "\n",
    "tfidf = TfidfVectorizer(ngram_range=(1,3), lowercase=True, analyzer='word',stop_words= 'english',\n",
    "                        token_pattern=r'\\w{1,}')"
   ]
  },
  {
   "cell_type": "code",
   "execution_count": 42,
   "metadata": {},
   "outputs": [
    {
     "data": {
      "text/plain": [
       "TfidfVectorizer(ngram_range=(1, 3), stop_words='english',\n",
       "                token_pattern='\\\\w{1,}')"
      ]
     },
     "execution_count": 42,
     "metadata": {},
     "output_type": "execute_result"
    }
   ],
   "source": [
    "# fit the model\n",
    "tfidf.fit(X_train)\n"
   ]
  },
  {
   "cell_type": "code",
   "execution_count": 43,
   "metadata": {},
   "outputs": [],
   "source": [
    "## transforming the train and test datasets\n",
    "X_train_tf = tfidf.transform(X_train.tolist())\n",
    "X_test_tf = tfidf.transform(X_test.tolist())"
   ]
  },
  {
   "cell_type": "code",
   "execution_count": 44,
   "metadata": {},
   "outputs": [
    {
     "name": "stdout",
     "output_type": "stream",
     "text": [
      "X_train_tf (20696, 365661)\n",
      "Y_train (20696,)\n",
      "X_test_tf (8870, 365661)\n",
      "Y_test (8870,)\n"
     ]
    }
   ],
   "source": [
    "# print  shape of every dataset.\n",
    "print('X_train_tf', X_train_tf.shape)\n",
    "print('Y_train', Y_train.shape)\n",
    "print('X_test_tf', X_test_tf.shape)\n",
    "print('Y_test', Y_test.shape)"
   ]
  },
  {
   "cell_type": "markdown",
   "metadata": {},
   "source": [
    "#### Since we saw huge class imbalance in the previous outputs, its better we rectify it first before training the model"
   ]
  },
  {
   "cell_type": "code",
   "execution_count": 45,
   "metadata": {},
   "outputs": [],
   "source": [
    "# Instantiate the Smote class object\n",
    "smote = SMOTE()"
   ]
  },
  {
   "cell_type": "code",
   "execution_count": 46,
   "metadata": {},
   "outputs": [],
   "source": [
    "# Apply smote resampling on the train and test sets.\n",
    "X_train_tf, Y_train = smote.fit_resample(X_train_tf, Y_train)\n",
    "X_test_tf, Y_test = smote.fit_resample(X_test_tf, Y_test)"
   ]
  },
  {
   "cell_type": "code",
   "execution_count": 47,
   "metadata": {},
   "outputs": [
    {
     "name": "stdout",
     "output_type": "stream",
     "text": [
      "X_train_tf (36796, 365661)\n",
      "Y_train (36796,)\n",
      "X_test_tf (15728, 365661)\n",
      "Y_test (15728,)\n"
     ]
    }
   ],
   "source": [
    "# Print the shape of each dataset.\n",
    "print('X_train_tf', X_train_tf.shape)\n",
    "print('Y_train', Y_train.shape)\n",
    "print('X_test_tf', X_test_tf.shape)\n",
    "print('Y_test', Y_test.shape)"
   ]
  },
  {
   "cell_type": "markdown",
   "metadata": {},
   "source": [
    "### ML MODELS"
   ]
  },
  {
   "cell_type": "markdown",
   "metadata": {},
   "source": [
    "### Define a function which does all the modeling, displaying metrics, roc-auc curves based on the model which we are going to send as the input. "
   ]
  },
  {
   "cell_type": "code",
   "execution_count": 48,
   "metadata": {},
   "outputs": [],
   "source": [
    "def model_fit(X_train_tf, Y_train, X_test_tf, Y_test, ml_model, coef_show):\n",
    "    \n",
    "    model = ml_model.fit(X_train_tf, Y_train)\n",
    "    model_train_pred = model.predict(X_train_tf)\n",
    "    model_test_pred = model.predict(X_test_tf)\n",
    "    accuracy_train = model.score(X_train_tf, Y_train)\n",
    "    accuracy_test = model.score(X_test_tf, Y_test)\n",
    "    model_performance = classification_report(Y_test, model_test_pred)\n",
    "    validation_pred_proba_grad = model.predict_proba(X_test_tf)\n",
    "    roc_auc = roc_auc_score(Y_test, validation_pred_proba_grad[:,1])\n",
    "    \n",
    "    print(\"***** Accuracy of the Train model: \", accuracy_train, \" *******\")\n",
    "    print(\"***** Accuracy of the Test model: \", accuracy_test, \" *******\")\n",
    "    print('')\n",
    "    print(model_performance)\n",
    "    print('')\n",
    "    print(\"***** ROC_AUC score: \", roc_auc, \" *******\")\n",
    "    print(\"*************************************************\")\n",
    "    \n",
    "    if coef_show == True:\n",
    "        featureNames = tfidf.get_feature_names()\n",
    "        coef = model.coef_.tolist()[0]\n",
    "        coeff_df = pd.DataFrame({'Word' : featureNames, 'Coefficient' : coef})\n",
    "        coeff_df = coeff_df.sort_values(['Coefficient', 'Word'], ascending=[0, 1])\n",
    "        print('')\n",
    "        print(\"************ Top 10 positive features (variables) ************\")\n",
    "        print(coeff_df.head(20).to_string(index=False))\n",
    "        print('')\n",
    "        print(\"************ Top 10 negative features (variables) ************\")        \n",
    "        print(coeff_df.tail(20).to_string(index=False))\n",
    "    \n",
    "    print(\"Confusion matrix for train and test set\")\n",
    "\n",
    "    plt.figure(figsize=(10,5))\n",
    "\n",
    "    c_train = confusion_matrix(Y_train, model_train_pred)\n",
    "    c_test = confusion_matrix(Y_test, model_test_pred)\n",
    "    \n",
    "    plt.subplot(1,2,1)\n",
    "    sns.heatmap(c_train/np.sum(c_train), annot=True , fmt = ' .2%', cmap=\"Dark2_r\")\n",
    "\n",
    "    plt.subplot(1,2,2)\n",
    "    sns.heatmap(c_test/np.sum(c_test), annot=True , fmt = ' .2%', cmap=\"Dark2_r\")\n",
    "\n",
    "    plt.show()\n",
    "    \n",
    "    # Calculate Sensitivity and Specificity\n",
    "    true_neg = c_test[0, 0]\n",
    "    false_pos = c_test[0, 1]\n",
    "    false_neg = c_test[1, 0]\n",
    "    true_pos = c_test[1, 1]\n",
    "    \n",
    "    sensitivity = true_pos/(false_neg+true_pos)\n",
    "    print(\"Sensitivity is : \",sensitivity)\n",
    "    \n",
    "    specificity = true_neg/(false_pos+true_neg)\n",
    "    print(\"Specificity is : \",specificity)\n",
    "\n",
    "    \n",
    "    return model"
   ]
  },
  {
   "cell_type": "markdown",
   "metadata": {},
   "source": [
    "### a. LOGISTIC REGRESSION"
   ]
  },
  {
   "cell_type": "code",
   "execution_count": 49,
   "metadata": {},
   "outputs": [],
   "source": [
    "# Instantiate a logistic regression object\n",
    "\n",
    "logistic_regression = LogisticRegression()"
   ]
  },
  {
   "cell_type": "code",
   "execution_count": 50,
   "metadata": {},
   "outputs": [
    {
     "name": "stdout",
     "output_type": "stream",
     "text": [
      "***** Accuracy of the Train model:  0.9861669746711599  *******\n",
      "***** Accuracy of the Test model:  0.8800228891149542  *******\n",
      "\n",
      "              precision    recall  f1-score   support\n",
      "\n",
      "           0       0.96      0.79      0.87      7864\n",
      "           1       0.82      0.97      0.89      7864\n",
      "\n",
      "    accuracy                           0.88     15728\n",
      "   macro avg       0.89      0.88      0.88     15728\n",
      "weighted avg       0.89      0.88      0.88     15728\n",
      "\n",
      "\n",
      "***** ROC_AUC score:  0.9643550609600233  *******\n",
      "*************************************************\n",
      "\n",
      "************ Top 10 positive features (variables) ************\n",
      "      Word  Coefficient\n",
      "     great    23.389703\n",
      "      love    16.803315\n",
      "      good    14.375751\n",
      "      best    12.996225\n",
      "     clean    12.838765\n",
      "      easy    11.799165\n",
      "    better     9.324232\n",
      "     loved     8.811502\n",
      "      nice     7.744061\n",
      "   awesome     7.454584\n",
      "    really     6.965798\n",
      " excellent     6.947819\n",
      "   perfect     6.919525\n",
      "   amazing     6.290153\n",
      "   enjoyed     6.023083\n",
      "  favorite     5.923769\n",
      "     movie     5.799649\n",
      "    action     5.329394\n",
      "  original     5.314917\n",
      " wonderful     5.302980\n",
      "\n",
      "************ Top 10 negative features (variables) ************\n",
      "           Word  Coefficient\n",
      "        formula    -2.634872\n",
      "           cold    -2.667675\n",
      " son love movie    -2.668543\n",
      "           like    -2.951637\n",
      "      baby love    -3.150925\n",
      "       son love    -3.812756\n",
      "          awful    -3.823242\n",
      "  resident evil    -3.859407\n",
      "       resident    -3.894644\n",
      "          wrong    -4.036581\n",
      "  daughter love    -4.379388\n",
      "          dirty    -4.381388\n",
      "          nasty    -4.395160\n",
      "       horrible    -4.807219\n",
      "           evil    -4.951762\n",
      "    family love    -5.171013\n",
      "           sick    -5.300509\n",
      "       terrible    -5.808855\n",
      "   disappointed    -6.040264\n",
      "            bad    -6.244470\n",
      "Confusion matrix for train and test set\n"
     ]
    },
    {
     "data": {
      "image/png": "[encoded data removed]",
      "text/plain": [
       "<Figure size 720x360 with 4 Axes>"
      ]
     },
     "metadata": {
      "needs_background": "light"
     },
     "output_type": "display_data"
    },
    {
     "name": "stdout",
     "output_type": "stream",
     "text": [
      "Sensitivity is :  0.9668107833163785\n",
      "Specificity is :  0.79323499491353\n"
     ]
    }
   ],
   "source": [
    "# Use the above defined function to create the Logistic regression model\n",
    "\n",
    "lr_model = model_fit(X_train_tf, Y_train, X_test_tf, Y_test, logistic_regression, True)"
   ]
  },
  {
   "cell_type": "markdown",
   "metadata": {},
   "source": [
    "### b. MULTINOMIAL NAIVE BAYES"
   ]
  },
  {
   "cell_type": "code",
   "execution_count": 51,
   "metadata": {
    "scrolled": true
   },
   "outputs": [],
   "source": [
    "# Instantiate a naive bayes object\n",
    "\n",
    "mnb = MultinomialNB()"
   ]
  },
  {
   "cell_type": "code",
   "execution_count": 52,
   "metadata": {},
   "outputs": [
    {
     "name": "stdout",
     "output_type": "stream",
     "text": [
      "***** Accuracy of the Train model:  0.987661702358952  *******\n",
      "***** Accuracy of the Test model:  0.7527339776195321  *******\n",
      "\n",
      "              precision    recall  f1-score   support\n",
      "\n",
      "           0       0.90      0.57      0.70      7864\n",
      "           1       0.68      0.94      0.79      7864\n",
      "\n",
      "    accuracy                           0.75     15728\n",
      "   macro avg       0.79      0.75      0.74     15728\n",
      "weighted avg       0.79      0.75      0.74     15728\n",
      "\n",
      "\n",
      "***** ROC_AUC score:  0.9260165048965683  *******\n",
      "*************************************************\n",
      "\n",
      "************ Top 10 positive features (variables) ************\n",
      "                       Word  Coefficient\n",
      "                      great    -7.154211\n",
      "                       love    -7.206528\n",
      "                      movie    -7.293303\n",
      "                     review    -7.354025\n",
      "        collected promotion    -7.371052\n",
      "           review collected    -7.371052\n",
      " review collected promotion    -7.371052\n",
      "                  collected    -7.371076\n",
      "                  promotion    -7.371111\n",
      "                    product    -7.403680\n",
      "                        use    -7.471249\n",
      "                       wipe    -7.525389\n",
      "                       good    -7.572194\n",
      "                      clean    -7.579843\n",
      "                     clorox    -7.785865\n",
      "                       easy    -7.916031\n",
      "                      smell    -8.026773\n",
      "                       like    -8.123460\n",
      "                       hair    -8.166319\n",
      "                     really    -8.299523\n",
      "\n",
      "************ Top 10 negative features (variables) ************\n",
      "                      Word  Coefficient\n",
      "           zac need acting   -13.058887\n",
      "           zach efron adam   -13.058887\n",
      "           zilla fan alike   -13.058887\n",
      "              zinc thought   -13.058887\n",
      "   zinc thought ingredient   -13.058887\n",
      "          zip lock jacking   -13.058887\n",
      "                zipper jaw   -13.058887\n",
      "          zipper jaw beach   -13.058887\n",
      "                       zit   -13.058887\n",
      "                  zit face   -13.058887\n",
      "         zit face breakout   -13.058887\n",
      "             zit typically   -13.058887\n",
      "      zit typically person   -13.058887\n",
      "      zombie flickresident   -13.058887\n",
      " zombie flickresident evil   -13.058887\n",
      "              zombie genre   -13.058887\n",
      "         zombie genre firm   -13.058887\n",
      "               zombie joke   -13.058887\n",
      "                zombie mad   -13.058887\n",
      "    zombie mad maxresident   -13.058887\n",
      "Confusion matrix for train and test set\n"
     ]
    },
    {
     "data": {
      "image/png": "[encoded data removed]",
      "text/plain": [
       "<Figure size 720x360 with 4 Axes>"
      ]
     },
     "metadata": {
      "needs_background": "light"
     },
     "output_type": "display_data"
    },
    {
     "name": "stdout",
     "output_type": "stream",
     "text": [
      "Sensitivity is :  0.939471007121058\n",
      "Specificity is :  0.565996948118006\n"
     ]
    }
   ],
   "source": [
    "# Use the above defined function to create the naive bayes model\n",
    "\n",
    "nb_model = model_fit(X_train_tf, Y_train, X_test_tf, Y_test, mnb, True)"
   ]
  },
  {
   "cell_type": "markdown",
   "metadata": {},
   "source": [
    "### c. RANDOM FOREST"
   ]
  },
  {
   "cell_type": "code",
   "execution_count": 53,
   "metadata": {},
   "outputs": [],
   "source": [
    "# Instantiate a Random Forest Classifier object\n",
    "\n",
    "random_forest = RandomForestClassifier(n_estimators=100, max_depth=5, max_features=500, random_state=100, oob_score=True)"
   ]
  },
  {
   "cell_type": "code",
   "execution_count": 54,
   "metadata": {},
   "outputs": [
    {
     "name": "stdout",
     "output_type": "stream",
     "text": [
      "***** Accuracy of the Train model:  0.7993531905641917  *******\n",
      "***** Accuracy of the Test model:  0.7748601220752798  *******\n",
      "\n",
      "              precision    recall  f1-score   support\n",
      "\n",
      "           0       0.79      0.75      0.77      7864\n",
      "           1       0.76      0.80      0.78      7864\n",
      "\n",
      "    accuracy                           0.77     15728\n",
      "   macro avg       0.78      0.77      0.77     15728\n",
      "weighted avg       0.78      0.77      0.77     15728\n",
      "\n",
      "\n",
      "***** ROC_AUC score:  0.851151342597815  *******\n",
      "*************************************************\n",
      "Confusion matrix for train and test set\n"
     ]
    },
    {
     "data": {
      "image/png": "[encoded data removed]",
      "text/plain": [
       "<Figure size 720x360 with 4 Axes>"
      ]
     },
     "metadata": {
      "needs_background": "light"
     },
     "output_type": "display_data"
    },
    {
     "name": "stdout",
     "output_type": "stream",
     "text": [
      "Sensitivity is :  0.802263479145473\n",
      "Specificity is :  0.7474567650050865\n"
     ]
    }
   ],
   "source": [
    "# Use the above defined function to create the random forest model\n",
    "\n",
    "rf_model = model_fit(X_train_tf, Y_train, X_test_tf, Y_test, random_forest, False)"
   ]
  },
  {
   "cell_type": "markdown",
   "metadata": {},
   "source": [
    "### d. XGBoost"
   ]
  },
  {
   "cell_type": "code",
   "execution_count": null,
   "metadata": {},
   "outputs": [
    {
     "name": "stdout",
     "output_type": "stream",
     "text": [
      "Fitting 3 folds for each of 5 candidates, totalling 15 fits\n"
     ]
    }
   ],
   "source": [
    "# define some hyperparameters for hyper parameter tuning\n",
    "estimators = [10,20,30]\n",
    "samples_leaf = [1,2,3,4]\n",
    "depth = [4,5]\n",
    "samples_split = [6,8,10]\n",
    "features = ['auto', 'sqrt']\n",
    "\n",
    "\n",
    "# instantiate the grid using the above hyper paramegters\n",
    "random_grid = {'n_estimators': estimators, 'max_features': features,\n",
    "               'max_depth': depth, 'min_samples_split': samples_split,\n",
    "               'min_samples_leaf': samples_leaf}\n",
    "\n",
    "# Create a XGB Classifier object \n",
    "xgb = xgb.XGBClassifier(n_jobs=-1)\n",
    "\n",
    "# Using GridCV, find out the best hyperparameter\n",
    "xgb_final = RandomizedSearchCV(estimator=xgb, param_distributions=random_grid, n_iter=5, cv=3, \n",
    "                               verbose=2, random_state=42, n_jobs=-1)\n",
    "\n",
    "\n",
    "xgb_final.fit(X_train_tf, Y_train)\n"
   ]
  },
  {
   "cell_type": "code",
   "execution_count": null,
   "metadata": {},
   "outputs": [],
   "source": [
    "# Check the best esimator\n",
    "xgb_final.best_estimator_"
   ]
  },
  {
   "cell_type": "code",
   "execution_count": null,
   "metadata": {},
   "outputs": [],
   "source": [
    "# Assign the best estimator to a variable for future use\n",
    "xgb_obj = xgb_final.best_estimator_"
   ]
  },
  {
   "cell_type": "code",
   "execution_count": null,
   "metadata": {},
   "outputs": [],
   "source": [
    "# Fit the model using the best estimator\n",
    "xgb_model = model_fit(X_train_tf, Y_train, X_test_tf, Y_test, xgb_obj, False)"
   ]
  },
  {
   "cell_type": "code",
   "execution_count": null,
   "metadata": {},
   "outputs": [],
   "source": [
    "# Create a dataframe of all the metrics for all the above models\n",
    "metrics_all = {'LR' : [88,88,93,84,96], 'MNB' : [80,79,92,67,91],\n",
    "               'RF' : [76,76,76,76,84], 'XGBoost' :[87,87,84,91,95]}\n",
    "metrics_df = pd.DataFrame(metrics_all, index=['F1-score', 'Accuracy', 'Sensitivity', 'Specificity', 'ROC-AUC score'])\n",
    "metrics_df"
   ]
  },
  {
   "cell_type": "code",
   "execution_count": null,
   "metadata": {},
   "outputs": [],
   "source": [
    "# Lets create a set of sample sentences to predict the classes \n",
    "\n",
    "sample_sent = [\"i loved the product it is amazing\", \"the quality is very bad\", \"perfect brush\",\n",
    "              \"cheap texture on comb\", \"daughter loved the chocolates\"]\n",
    "\n",
    "sample_sent = tfidf.transform(sample_sent)"
   ]
  },
  {
   "cell_type": "code",
   "execution_count": null,
   "metadata": {},
   "outputs": [],
   "source": [
    "# predict the classes for the above sample sentence \n",
    "print(\"Logistic regression : \")\n",
    "print(lr_model.predict(sample_sent))\n",
    "print(\"Multinomial Naive Bayes : \")\n",
    "print(nb_model.predict(sample_sent))\n",
    "print(\"Random Forest \")\n",
    "print(rf_model.predict(sample_sent))\n",
    "print(\"XGBoost\")\n",
    "print(xgb_model.predict(sample_sent))"
   ]
  },
  {
   "cell_type": "markdown",
   "metadata": {},
   "source": [
    "### From the above metrics, as well as sample prediction, we clearly observe that the Logistic regression model and XGBoost are working better when compared to the other models. Due to time complexity issues, we can consider <b><u>Logistic regression</u></b> for the recommendation purpose"
   ]
  },
  {
   "cell_type": "markdown",
   "metadata": {},
   "source": [
    "## <font color = 'maroon'>5. RECOMMENDATION SYSTEM</font>"
   ]
  },
  {
   "cell_type": "code",
   "execution_count": null,
   "metadata": {},
   "outputs": [],
   "source": [
    "# Copy the original df to a new dataframe \n",
    "\n",
    "reviews = df\n",
    "\n",
    "reviews.head()"
   ]
  },
  {
   "cell_type": "code",
   "execution_count": null,
   "metadata": {},
   "outputs": [],
   "source": [
    "# Check if any of the columns have null values \n",
    "# Though we have checked it earlier for the original df, making sure we dont have any null values\n",
    "\n",
    "reviews.isnull().sum()"
   ]
  },
  {
   "cell_type": "markdown",
   "metadata": {},
   "source": [
    "##### We do not have any missing or null values"
   ]
  },
  {
   "cell_type": "code",
   "execution_count": null,
   "metadata": {},
   "outputs": [],
   "source": [
    "# Check the rating column of the dataframe \n",
    "\n",
    "reviews.rating.value_counts()"
   ]
  },
  {
   "cell_type": "markdown",
   "metadata": {},
   "source": [
    "#### We also observed that there were around 25k users and 250 items in the dataset"
   ]
  },
  {
   "cell_type": "code",
   "execution_count": null,
   "metadata": {},
   "outputs": [],
   "source": [
    "# Diving the dataset into train and test \n",
    "\n",
    "train_df, test_df = train_test_split(reviews, train_size=0.7, test_size=0.3, random_state=100)\n",
    "\n",
    "print(train_df.shape)\n",
    "print(test_df.shape)"
   ]
  },
  {
   "cell_type": "code",
   "execution_count": null,
   "metadata": {
    "scrolled": true
   },
   "outputs": [],
   "source": [
    "# Create a temporary pivot table with index as username \n",
    "# and the items as the columns to which the user has given a rating for.\n",
    "\n",
    "user_pt = reviews.pivot_table(index='username', columns='name', values='rating').fillna(0)\n",
    "\n",
    "user_df = pd.DataFrame(user_pt)\n",
    "\n",
    "print(user_df.shape)\n",
    "user_df.head()"
   ]
  },
  {
   "cell_type": "code",
   "execution_count": null,
   "metadata": {},
   "outputs": [],
   "source": [
    "# Create a dummy_train dataframe such that this \n",
    "# df will be used for prediction of the items which the user has not rated yet.\n",
    "\n",
    "train_dummy = train_df.copy()\n",
    "\n",
    "print(train_dummy.shape)\n",
    "train_dummy.head()"
   ]
  },
  {
   "cell_type": "code",
   "execution_count": null,
   "metadata": {},
   "outputs": [],
   "source": [
    "# As we know we need to mark the items which have not been rated by the user as 1\n",
    "train_dummy.rating = train_dummy.rating.apply(lambda x : 0 if x>=1 else 1)"
   ]
  },
  {
   "cell_type": "code",
   "execution_count": null,
   "metadata": {},
   "outputs": [],
   "source": [
    "# check the unique values and the value counts \n",
    "print(train_dummy.rating.value_counts())\n",
    "\n",
    "print(train_dummy.rating.unique())"
   ]
  },
  {
   "cell_type": "markdown",
   "metadata": {},
   "source": [
    "#### From the above we see that there all the ratings are 0 i.e., every item has a rating already."
   ]
  },
  {
   "cell_type": "code",
   "execution_count": null,
   "metadata": {},
   "outputs": [],
   "source": [
    "# Convert the dummy train dataset into matrix format.\n",
    "train_dummy = train_dummy.pivot_table(index='username', columns='name', values='rating').fillna(1)"
   ]
  },
  {
   "cell_type": "code",
   "execution_count": null,
   "metadata": {},
   "outputs": [],
   "source": [
    "print(train_dummy.shape)\n",
    "train_dummy.head()"
   ]
  },
  {
   "cell_type": "markdown",
   "metadata": {},
   "source": [
    "#### Cosine Similarity <br>\n",
    "\n",
    "Cosine Similarity is a measurement that quantifies the similarity between two vectors [Which is Rating Vector in this case] <br>\n",
    "\n",
    "#### Adjusted Cosine <br>\n",
    "\n",
    "Adjusted cosine similarity is a modified version of vector-based similarity where we incorporate the fact that different users have different ratings schemes. In other words, some users might rate items highly in general, and others might give items lower ratings as a preference. To handle this nature from rating given by user , we subtract average ratings for each user from each user's rating for different movies."
   ]
  },
  {
   "cell_type": "markdown",
   "metadata": {},
   "source": [
    " ### Adjusted Cosine Similarity"
   ]
  },
  {
   "cell_type": "code",
   "execution_count": null,
   "metadata": {},
   "outputs": [],
   "source": [
    "# Create a pivot table for the user-item matrix\n",
    "train_df_pt = train_df.pivot_table(index='username', columns='name', values='rating')"
   ]
  },
  {
   "cell_type": "code",
   "execution_count": null,
   "metadata": {},
   "outputs": [],
   "source": [
    "print(train_df_pt.shape)\n",
    "train_df_pt.head()"
   ]
  },
  {
   "cell_type": "code",
   "execution_count": null,
   "metadata": {},
   "outputs": [],
   "source": [
    "# Normalising the rating of each user around 0 mean \n",
    "# This does the mean for each row as the axis is 1\n",
    "mean = np.nanmean(train_df_pt, axis=1)\n",
    "\n",
    "print(mean)\n",
    "print(sum(mean))\n",
    "print(len(mean))"
   ]
  },
  {
   "cell_type": "code",
   "execution_count": null,
   "metadata": {},
   "outputs": [],
   "source": [
    "# subtract the mean from the train df and transpose\n",
    "train_df_sub = (train_df_pt.T - mean).T\n",
    "\n",
    "train_df_sub.head()"
   ]
  },
  {
   "cell_type": "code",
   "execution_count": null,
   "metadata": {},
   "outputs": [],
   "source": [
    "# finding cosine similarity with NaN\n",
    "\n",
    "user_correlation_sub = 1 - pairwise_distances(train_df_sub.fillna(0), metric='cosine')\n",
    "user_correlation_sub[np.isnan(user_correlation_sub)] = 0\n",
    "print(user_correlation_sub)"
   ]
  },
  {
   "cell_type": "code",
   "execution_count": null,
   "metadata": {},
   "outputs": [],
   "source": [
    "print(sum(sum(user_correlation_sub)))"
   ]
  },
  {
   "cell_type": "code",
   "execution_count": null,
   "metadata": {},
   "outputs": [],
   "source": [
    "print(user_correlation_sub.shape)"
   ]
  },
  {
   "cell_type": "markdown",
   "metadata": {},
   "source": [
    "### a. Prediction - User User <br>\n",
    "Doing the prediction for the users which are positively related with other users, and not the users which are negatively related as we are interested in the users which are more similar to the current users. So, ignoring the correlation for values less than 0."
   ]
  },
  {
   "cell_type": "code",
   "execution_count": null,
   "metadata": {
    "scrolled": true
   },
   "outputs": [],
   "source": [
    "# Remove negative correlations among the users\n",
    "user_correlation_sub[user_correlation_sub<0]=0\n",
    "user_correlation_sub"
   ]
  },
  {
   "cell_type": "code",
   "execution_count": null,
   "metadata": {},
   "outputs": [],
   "source": [
    "#Check if there are legitimate values in the correlation matrix\n",
    "sum(sum(user_correlation_sub))"
   ]
  },
  {
   "cell_type": "markdown",
   "metadata": {},
   "source": [
    "#### Sum is > 0 which means there are some legitimate values (not all zero)"
   ]
  },
  {
   "cell_type": "code",
   "execution_count": null,
   "metadata": {},
   "outputs": [],
   "source": [
    "user_pred_rating = np.dot(user_correlation_sub, train_df_pt.fillna(0))\n",
    "user_pred_rating"
   ]
  },
  {
   "cell_type": "code",
   "execution_count": null,
   "metadata": {},
   "outputs": [],
   "source": [
    "# Check if ths sum is legitimate\n",
    "print(user_pred_rating.shape)\n",
    "sum(sum(user_pred_rating))"
   ]
  },
  {
   "cell_type": "markdown",
   "metadata": {},
   "source": [
    "#### Since we are interested only in the items not rated by the user, we will ignore the items rated by the user by making it zero."
   ]
  },
  {
   "cell_type": "code",
   "execution_count": null,
   "metadata": {},
   "outputs": [],
   "source": [
    "user_final_rating = np.multiply(user_pred_rating,train_dummy)\n",
    "user_final_rating.head()"
   ]
  },
  {
   "cell_type": "markdown",
   "metadata": {},
   "source": [
    "#### Check for our algorithm correctness - Sum the numbers by items to see if anything meaningful is arrived at. For these items, check in the excel sheet and pick a user (who is in the train data set) and get recommendations for her."
   ]
  },
  {
   "cell_type": "code",
   "execution_count": null,
   "metadata": {},
   "outputs": [],
   "source": [
    "print(user_final_rating.T.sum(axis=1).sort_values(ascending=False)[0:60])"
   ]
  },
  {
   "cell_type": "code",
   "execution_count": null,
   "metadata": {},
   "outputs": [],
   "source": [
    "# This block will execute only if 'user' is in the training dataset.\n",
    "d = user_final_rating.loc['chris'].sort_values(ascending=False)[0:10]\n",
    "d"
   ]
  },
  {
   "cell_type": "markdown",
   "metadata": {},
   "source": [
    "### Finding the top 20 recommendations for the user"
   ]
  },
  {
   "cell_type": "code",
   "execution_count": null,
   "metadata": {},
   "outputs": [],
   "source": [
    "user_input = input(\"Enter user name \")\n",
    "print(user_input)"
   ]
  },
  {
   "cell_type": "code",
   "execution_count": null,
   "metadata": {},
   "outputs": [],
   "source": [
    "top20 = user_final_rating.loc[user_input].sort_values(ascending=False)[0:20]\n",
    "top20"
   ]
  },
  {
   "cell_type": "markdown",
   "metadata": {},
   "source": [
    "### b. Item Based Similarity"
   ]
  },
  {
   "cell_type": "markdown",
   "metadata": {},
   "source": [
    "#### Take the transpose of the user matrix which we created above"
   ]
  },
  {
   "cell_type": "code",
   "execution_count": null,
   "metadata": {},
   "outputs": [],
   "source": [
    "train_df_item = train_df.pivot_table(index='username', columns='name', values='rating').T"
   ]
  },
  {
   "cell_type": "code",
   "execution_count": null,
   "metadata": {},
   "outputs": [],
   "source": [
    "# print the shape and head\n",
    "print(train_df_item.shape)\n",
    "train_df_item.head()"
   ]
  },
  {
   "cell_type": "code",
   "execution_count": null,
   "metadata": {},
   "outputs": [],
   "source": [
    "# Normalizing around mean \n",
    "mean_item = np.nanmean(train_df_item, axis=1)\n",
    "item_df_sub = (train_df_item.T - mean_item).T"
   ]
  },
  {
   "cell_type": "code",
   "execution_count": null,
   "metadata": {},
   "outputs": [],
   "source": [
    "print(item_df_sub.shape)\n",
    "item_df_sub.head()"
   ]
  },
  {
   "cell_type": "code",
   "execution_count": null,
   "metadata": {},
   "outputs": [],
   "source": [
    "# Adjusted cosine similarity since we have not removed any NaN\n",
    "\n",
    "item_corr_sub = 1 - pairwise_distances(item_df_sub.fillna(0), metric='cosine')\n",
    "item_corr_sub[np.isnan(item_corr_sub)] = 0\n",
    "print(item_corr_sub)"
   ]
  },
  {
   "cell_type": "code",
   "execution_count": null,
   "metadata": {},
   "outputs": [],
   "source": [
    "# Mark the negative correlation as 0 \n",
    "\n",
    "item_corr_sub[item_corr_sub<0]=0\n",
    "item_corr_sub"
   ]
  },
  {
   "cell_type": "code",
   "execution_count": null,
   "metadata": {},
   "outputs": [],
   "source": [
    "# Predict the item based rating \n",
    "item_pred_rating = np.dot((train_df_item.fillna(0).T),item_corr_sub)\n",
    "item_pred_rating"
   ]
  },
  {
   "cell_type": "code",
   "execution_count": null,
   "metadata": {},
   "outputs": [],
   "source": [
    "# We need only those ratings which have not been rated by the user\n",
    "item_final_rating = np.multiply(item_pred_rating,train_dummy)\n",
    "item_final_rating.shape"
   ]
  },
  {
   "cell_type": "code",
   "execution_count": null,
   "metadata": {},
   "outputs": [],
   "source": [
    "item_final_rating.head()"
   ]
  },
  {
   "cell_type": "markdown",
   "metadata": {},
   "source": [
    "### c. Evaluation <br>\n",
    "#### Get the common users in both test and train"
   ]
  },
  {
   "cell_type": "code",
   "execution_count": null,
   "metadata": {},
   "outputs": [],
   "source": [
    "common_users = test_df[test_df['username'].isin(train_df['username'])]\n",
    "\n",
    "print(common_users.shape)\n",
    "common_users.head()"
   ]
  },
  {
   "cell_type": "code",
   "execution_count": null,
   "metadata": {},
   "outputs": [],
   "source": [
    "# Convert the common users df to pivot table \n",
    "\n",
    "common_users_pt = common_users.pivot_table(index='username', columns='name', values='rating')\n",
    "print(common_users_pt.shape)\n",
    "\n",
    "common_users_pt.head()"
   ]
  },
  {
   "cell_type": "code",
   "execution_count": null,
   "metadata": {},
   "outputs": [],
   "source": [
    "# Convert the user_correlation_sub to a dataframe for easy access\n",
    "user_corr_df = pd.DataFrame(user_correlation_sub)"
   ]
  },
  {
   "cell_type": "code",
   "execution_count": null,
   "metadata": {},
   "outputs": [],
   "source": [
    "print(user_corr_df.shape)\n",
    "user_corr_df.head()"
   ]
  },
  {
   "cell_type": "code",
   "execution_count": null,
   "metadata": {},
   "outputs": [],
   "source": [
    "# Change the index of the user_corr_df to usernames\n",
    "user_corr_df['username'] = train_df_sub.index\n",
    "user_corr_df.set_index('username',inplace=True)\n",
    "user_corr_df.head()"
   ]
  },
  {
   "cell_type": "code",
   "execution_count": null,
   "metadata": {},
   "outputs": [],
   "source": [
    "# Convert the usernames to list\n",
    "usernames_list = common_users['username'].tolist()\n",
    "user_corr_df.columns = train_df_sub.index.tolist()\n",
    "user_corr_df_1 =  user_corr_df[user_corr_df.index.isin(usernames_list)]"
   ]
  },
  {
   "cell_type": "code",
   "execution_count": null,
   "metadata": {},
   "outputs": [],
   "source": [
    "len(usernames_list)"
   ]
  },
  {
   "cell_type": "code",
   "execution_count": null,
   "metadata": {},
   "outputs": [],
   "source": [
    "print(user_corr_df_1.shape)\n",
    "user_corr_df_1.head()"
   ]
  },
  {
   "cell_type": "code",
   "execution_count": null,
   "metadata": {},
   "outputs": [],
   "source": [
    "user_corr_df_2 = user_corr_df_1.T[user_corr_df_1.T.index.isin(usernames_list)]"
   ]
  },
  {
   "cell_type": "code",
   "execution_count": null,
   "metadata": {},
   "outputs": [],
   "source": [
    "user_corr_df_3 = user_corr_df_2.T\n",
    "user_corr_df_3.head()"
   ]
  },
  {
   "cell_type": "code",
   "execution_count": null,
   "metadata": {},
   "outputs": [],
   "source": [
    "user_corr_df_3.shape"
   ]
  },
  {
   "cell_type": "code",
   "execution_count": null,
   "metadata": {},
   "outputs": [],
   "source": [
    "# Mark the negative correlations to 0 \n",
    "user_corr_df_3[user_corr_df_3<0]=0\n",
    "\n",
    "# predict the user rating \n",
    "common_user_pred_rating = np.dot(user_corr_df_3, common_users_pt.fillna(0))\n",
    "common_user_pred_rating"
   ]
  },
  {
   "cell_type": "code",
   "execution_count": null,
   "metadata": {},
   "outputs": [],
   "source": [
    "# Create a dummy test dataframe \n",
    "test_dummy = common_users.copy()"
   ]
  },
  {
   "cell_type": "code",
   "execution_count": null,
   "metadata": {},
   "outputs": [],
   "source": [
    "# make the rating to 1 if the user has given a rating, else 0\n",
    "\n",
    "test_dummy['rating'] = test_dummy['rating'].apply(lambda x : 1 if x>=1 else 0)\n",
    "test_dummy.head()"
   ]
  },
  {
   "cell_type": "code",
   "execution_count": null,
   "metadata": {},
   "outputs": [],
   "source": [
    "# Create a pivot table for the dummy test dataframe\n",
    "test_dummy_pt = test_dummy.pivot_table(index='username', columns='name', values='rating').fillna(0)\n",
    "test_dummy_pt.shape"
   ]
  },
  {
   "cell_type": "code",
   "execution_count": null,
   "metadata": {},
   "outputs": [],
   "source": [
    "test_dummy_pt.head()"
   ]
  },
  {
   "cell_type": "code",
   "execution_count": null,
   "metadata": {},
   "outputs": [],
   "source": [
    "# predict the final testing \n",
    "common_user_pred_rating = np.multiply(common_user_pred_rating, test_dummy_pt)\n",
    "\n",
    "common_user_pred_rating.head()"
   ]
  },
  {
   "cell_type": "markdown",
   "metadata": {},
   "source": [
    "### d. Calculating the RMSE for the items that the user has rated and normalising it to 1-5 range"
   ]
  },
  {
   "cell_type": "code",
   "execution_count": null,
   "metadata": {},
   "outputs": [],
   "source": [
    "from numpy import * \n",
    "x  = common_user_pred_rating.copy() \n",
    "x = x[x>0]\n",
    "\n",
    "scaler = MinMaxScaler(feature_range=(1, 5))\n",
    "print(scaler.fit(x))\n",
    "y = (scaler.transform(x))\n",
    "\n",
    "print(y)"
   ]
  },
  {
   "cell_type": "code",
   "execution_count": null,
   "metadata": {},
   "outputs": [],
   "source": [
    "# Creating a pivot table of common users\n",
    "common_users_1 = common_users.pivot_table(index='username', columns='name', values='rating')"
   ]
  },
  {
   "cell_type": "code",
   "execution_count": null,
   "metadata": {},
   "outputs": [],
   "source": [
    "common_users_1.head()"
   ]
  },
  {
   "cell_type": "code",
   "execution_count": null,
   "metadata": {},
   "outputs": [],
   "source": [
    "# Finding total non-NaN value\n",
    "total_non_nan = np.count_nonzero(~np.isnan(y))\n",
    "total_non_nan"
   ]
  },
  {
   "cell_type": "code",
   "execution_count": null,
   "metadata": {},
   "outputs": [],
   "source": [
    "rmse = (sum(sum((common_users_1 - y )**2))/total_non_nan)**0.5\n",
    "print(rmse)"
   ]
  },
  {
   "cell_type": "markdown",
   "metadata": {},
   "source": [
    "### e. Evaluation : Item similarity"
   ]
  },
  {
   "cell_type": "code",
   "execution_count": null,
   "metadata": {},
   "outputs": [],
   "source": [
    "# Create a dataframe of all the common product names in both test and train \n",
    "\n",
    "common_items =  test_df[test_df['name'].isin(train_df['name'])]\n",
    "\n",
    "common_items.shape"
   ]
  },
  {
   "cell_type": "code",
   "execution_count": null,
   "metadata": {},
   "outputs": [],
   "source": [
    "common_items.head()"
   ]
  },
  {
   "cell_type": "code",
   "execution_count": null,
   "metadata": {},
   "outputs": [],
   "source": [
    "# Create a pivot table of the common items\n",
    "\n",
    "common_items_pt = common_items.pivot_table(index='username', columns='name', values='rating').T\n",
    "\n",
    "print(common_items_pt.shape)\n",
    "\n",
    "common_items_pt.head()"
   ]
  },
  {
   "cell_type": "code",
   "execution_count": null,
   "metadata": {},
   "outputs": [],
   "source": [
    "# Create a dataframe of the common items pivot table\n",
    "common_items_df = pd.DataFrame(item_corr_sub)\n",
    "\n",
    "print(common_items_df.shape)\n",
    "common_items_df.head(2)"
   ]
  },
  {
   "cell_type": "code",
   "execution_count": null,
   "metadata": {},
   "outputs": [],
   "source": [
    "# Set the index of the item_corr_df dataframe\n",
    "\n",
    "common_items_df['name'] = item_df_sub.index\n",
    "common_items_df.set_index('name',inplace=True)\n",
    "common_items_df.head()"
   ]
  },
  {
   "cell_type": "code",
   "execution_count": null,
   "metadata": {},
   "outputs": [],
   "source": [
    "print(common_items_df.shape)\n",
    "print(common_items_pt.shape)"
   ]
  },
  {
   "cell_type": "code",
   "execution_count": null,
   "metadata": {
    "scrolled": true
   },
   "outputs": [],
   "source": [
    "# Create a list of all the common items\n",
    "items_list = common_items['name'].tolist()\n",
    "\n",
    "print(len(items_list))\n"
   ]
  },
  {
   "cell_type": "code",
   "execution_count": null,
   "metadata": {},
   "outputs": [],
   "source": [
    "# Set the column names of the correlation matrix\n",
    "common_items_df.columns = item_df_sub.index.tolist()\n",
    "common_items_df_1 =  common_items_df[common_items_df.index.isin(items_list)]\n"
   ]
  },
  {
   "cell_type": "code",
   "execution_count": null,
   "metadata": {},
   "outputs": [],
   "source": [
    "common_items_df_2 = common_items_df_1.T[common_items_df_1.T.index.isin(items_list)]\n",
    "common_items_df_3 = common_items_df_2.T"
   ]
  },
  {
   "cell_type": "code",
   "execution_count": null,
   "metadata": {},
   "outputs": [],
   "source": [
    "# Make the negative correlations to 0\n",
    "common_items_df_3[common_items_df_3<0]=0\n",
    "\n",
    "common_item_pred_rating = np.dot(common_items_df_3, common_items_pt.fillna(0))\n",
    "\n",
    "print(common_item_pred_rating.shape)\n",
    "common_item_pred_rating\n"
   ]
  },
  {
   "cell_type": "code",
   "execution_count": null,
   "metadata": {},
   "outputs": [],
   "source": [
    "# Copy the common_items to a dummy df\n",
    "test_dummy_items = common_items.copy()"
   ]
  },
  {
   "cell_type": "code",
   "execution_count": null,
   "metadata": {},
   "outputs": [],
   "source": [
    "# if there's a rating put 1, else 0\n",
    "test_dummy_items['rating'] = test_dummy_items['rating'].apply(lambda x: 1 if x>=1 else 0)\n",
    "\n",
    "# Create a pivot table and transpose\n",
    "test_dummy_items_pt = test_dummy_items.pivot_table(index='username', \n",
    "                        columns='name', values='rating').T.fillna(0)\n"
   ]
  },
  {
   "cell_type": "code",
   "execution_count": null,
   "metadata": {},
   "outputs": [],
   "source": [
    "# predict the rating on the test \n",
    "common_item_pred_rating = np.multiply(common_item_pred_rating,test_dummy_items_pt)"
   ]
  },
  {
   "cell_type": "code",
   "execution_count": null,
   "metadata": {},
   "outputs": [],
   "source": [
    "print(common_item_pred_rating.shape)\n",
    "common_item_pred_rating.head()"
   ]
  },
  {
   "cell_type": "markdown",
   "metadata": {},
   "source": [
    "### f .Calculate RMSE for Item Item similarity "
   ]
  },
  {
   "cell_type": "code",
   "execution_count": null,
   "metadata": {},
   "outputs": [],
   "source": [
    "# Scale the output rating for 1-5 range\n",
    "x_items  = common_item_pred_rating.copy() \n",
    "x_items = x_items[x_items>0]\n",
    "\n",
    "scaler = MinMaxScaler(feature_range=(1, 5))\n",
    "print(scaler.fit(x_items))\n",
    "y_items = (scaler.transform(x_items))\n",
    "\n",
    "print(y_items)"
   ]
  },
  {
   "cell_type": "code",
   "execution_count": null,
   "metadata": {},
   "outputs": [],
   "source": [
    "# Create a pivot table of common items \n",
    "common_items_1 = common_items.pivot_table(index='username', columns='name', values='rating').T\n",
    "\n",
    "print(common_items_1.shape)\n",
    "common_items_1.head()"
   ]
  },
  {
   "cell_type": "code",
   "execution_count": null,
   "metadata": {},
   "outputs": [],
   "source": [
    "# Finding total non-NaN value\n",
    "total_non_nan_items = np.count_nonzero(~np.isnan(y_items))\n",
    "\n",
    "\n",
    "total_non_nan_items"
   ]
  },
  {
   "cell_type": "code",
   "execution_count": null,
   "metadata": {},
   "outputs": [],
   "source": [
    "# Calculate the RMSE\n",
    "rmse_items = (sum(sum((common_items_1 - y_items )**2))/total_non_nan_items)**0.5\n",
    "print(rmse_items)"
   ]
  },
  {
   "cell_type": "markdown",
   "metadata": {},
   "source": [
    "#### Save the models in the pickle format and recommend the items for a particular user"
   ]
  },
  {
   "cell_type": "code",
   "execution_count": null,
   "metadata": {},
   "outputs": [],
   "source": [
    "import pickle\n",
    "\n",
    "# dump the logistic regression to lr_model.pkl file\n",
    "pickle.dump(lr_model,open('models/best_model_lr.pkl', 'wb'))"
   ]
  },
  {
   "cell_type": "code",
   "execution_count": null,
   "metadata": {},
   "outputs": [],
   "source": [
    "# load the lr_model  pickle object\n",
    "lr_model_obj =  pickle.load(open('models/best_model_lr.pkl', 'rb'))"
   ]
  },
  {
   "cell_type": "code",
   "execution_count": null,
   "metadata": {},
   "outputs": [],
   "source": [
    "# dump the tfidf vectorizer to tfidf_model file \n",
    "pickle.dump(tfidf,open('models/tfidf_vec.pkl','wb'))"
   ]
  },
  {
   "cell_type": "code",
   "execution_count": null,
   "metadata": {},
   "outputs": [],
   "source": [
    "# load the tfidf pickle object\n",
    "tfidf_obj = pickle.load(open('models/tfidf_vec.pkl','rb'))"
   ]
  },
  {
   "cell_type": "code",
   "execution_count": null,
   "metadata": {},
   "outputs": [],
   "source": [
    "# dump the pickle file for user_final_rating \n",
    "pickle.dump(user_final_rating, open('models/user_item_ratings.pkl', 'wb'))"
   ]
  },
  {
   "cell_type": "code",
   "execution_count": null,
   "metadata": {},
   "outputs": [],
   "source": [
    "# load the pickle object for user_final_rating\n",
    "final_ratings = pickle.load(open('models/user_item_ratings.pkl', 'rb'))"
   ]
  },
  {
   "cell_type": "markdown",
   "metadata": {},
   "source": [
    "### From the above metrics we saw that User-User similarity has less RMSE when compared to Item-Item similarity. Hence for the recommendations, let us use User-User similarity model"
   ]
  },
  {
   "cell_type": "markdown",
   "metadata": {},
   "source": [
    "## <font color = 'maroon'>6. Recommed the top 5 products for a particular user</font>"
   ]
  },
  {
   "cell_type": "code",
   "execution_count": null,
   "metadata": {},
   "outputs": [],
   "source": [
    "user_name = input(\"Enter a user name to recommend the products : \")\n",
    "user_name"
   ]
  },
  {
   "cell_type": "code",
   "execution_count": null,
   "metadata": {},
   "outputs": [],
   "source": [
    "# top20 ratings for a particular user\n",
    "top20_ratings = user_final_rating.loc[user_name].sort_values(ascending=False)[0:20]\n",
    "top20_ratings"
   ]
  },
  {
   "cell_type": "code",
   "execution_count": null,
   "metadata": {},
   "outputs": [],
   "source": [
    "# using lr_model predict the sentiment score of a product based on the review.\n",
    "\n",
    "products = []\n",
    "sentiments = []\n",
    "\n",
    "\n",
    "for item in top20_ratings.index.tolist():\n",
    "    # get the item name\n",
    "    item_name = item\n",
    "    # split the review into tokens to send it as features to the model\n",
    "    item_review = df[df['name']==item_name]['text'].tolist()\n",
    "    \n",
    "    # get the features of the review\n",
    "    tfidf_features = tfidf.transform(item_review)\n",
    "    # get the name and the sentiment of the review\n",
    "    products.append(item_name)\n",
    "    sentiments.append(lr_model.predict(tfidf_features).mean())\n",
    "\n",
    "print(len(products), len(sentiments))\n",
    "print(products, sentiments)\n",
    "    "
   ]
  },
  {
   "cell_type": "code",
   "execution_count": null,
   "metadata": {},
   "outputs": [],
   "source": [
    "# Create a dataframe of the products and the sentiments\n",
    "products_df = {'Product' : products, 'Sentiment' : sentiments}\n",
    "products_df = pd.DataFrame(products_df)\n",
    "\n",
    "# Sort the dataframe based on the sentiment score in the descending order\n",
    "products_df = products_df.sort_values(by=['Sentiment'], ascending=False)"
   ]
  },
  {
   "cell_type": "code",
   "execution_count": null,
   "metadata": {},
   "outputs": [],
   "source": [
    "# top 5 recommendations will be the following\n",
    "products_df['Product'][0:5].tolist()"
   ]
  },
  {
   "cell_type": "code",
   "execution_count": null,
   "metadata": {},
   "outputs": [],
   "source": [
    "# Save the final dataframe to a csv files \n",
    "# so that we can use this dataframe in our flask app\n",
    "df.to_csv(\"reviews_df.csv\",index=False)"
   ]
  },
  {
   "cell_type": "code",
   "execution_count": null,
   "metadata": {},
   "outputs": [],
   "source": []
  }
 ],
 "metadata": {
  "kernelspec": {
   "display_name": "Python 3",
   "language": "python",
   "name": "python3"
  },
  "language_info": {
   "codemirror_mode": {
    "name": "ipython",
    "version": 3
   },
   "file_extension": ".py",
   "mimetype": "text/x-python",
   "name": "python",
   "nbconvert_exporter": "python",
   "pygments_lexer": "ipython3",
   "version": "3.8.5"
  }
 },
 "nbformat": 4,
 "nbformat_minor": 4
}
